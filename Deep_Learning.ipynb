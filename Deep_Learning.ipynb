{
 "cells": [
  {
   "cell_type": "markdown",
   "metadata": {
    "collapsed": true
   },
   "source": [
    "# Brains, Primates and Artifical Intelligence\n",
    "### Gen Reynolds\n",
    "<div class=\"row\" display=\"flex\">\n",
    "    <div class=\"column\" flex=\"50%\">\n",
    "        <img src=\"Images/d305ec2a-9f5a-4894-8cd3-a7c43bb0756b-brain-640.jpg\"width=\"25%\">\n",
    "    </div>\n",
    "    <div class=\"column\" flex=\"50%\">\n",
    "        <img src=\"Images/MVIMG_20180630_141951.jpg\"width=\"25%\">\n",
    "    </div>\n",
    "</div>\n",
    "    "
   ]
  },
  {
   "cell_type": "markdown",
   "metadata": {},
   "source": [
    "## Learning How to Make A Model Using Kaggle's Deep Learning Tutorial"
   ]
  },
  {
   "cell_type": "code",
   "execution_count": 1,
   "metadata": {},
   "outputs": [],
   "source": [
    "# Pointing the code towards the files to use for the model training\n",
    "from os.path import join\n",
    "#Want to make this read straight from a zip file! Currently have to unzip the file \n",
    "image_dir='tutorial_files/indentifying_dog_breeds/train'\n",
    "# Testing with one image, want to select a number randomn images within the folder\n",
    "img_paths=[join(image_dir, filename) for filename in\n",
    "          ['00ba244566e36e0af3d979320fd3017f.jpg']]\n"
   ]
  },
  {
   "cell_type": "markdown",
   "metadata": {},
   "source": [
    "#### Creating a function to read the images and prepare them for modelling "
   ]
  },
  {
   "cell_type": "code",
   "execution_count": 2,
   "metadata": {},
   "outputs": [],
   "source": [
    "import numpy as np\n",
    "from PIL import Image\n",
    "from tensorflow.python.keras.applications.resnet50 import preprocess_input\n",
    "from tensorflow.python.keras.preprocessing.image import load_img, img_to_array\n",
    "\n",
    "image_size= 224\n",
    "\n",
    "def img_read_and_prepare(img_paths,img_height=image_size,img_width=image_size):\n",
    "    imgs=[load_img(img_path,target_size=(img_height,img_width))for img_path in img_paths]\n",
    "    img_array= np.array([img_to_array(img) for img in imgs])\n",
    "    return preprocess_input(img_array)"
   ]
  },
  {
   "cell_type": "markdown",
   "metadata": {},
   "source": [
    "#### Creating tutorial model using pretrained weights to make predictions"
   ]
  },
  {
   "cell_type": "code",
   "execution_count": 3,
   "metadata": {},
   "outputs": [],
   "source": [
    "from tensorflow.python.keras.applications import ResNet50\n",
    "\n",
    "my_model = ResNet50(weights='tutorial_files/ResNet50/resnet50_weights_tf_dim_ordering_tf_kernels.h5/resnet50_weights_tf_dim_ordering_tf_kernels.h5')"
   ]
  },
  {
   "cell_type": "code",
   "execution_count": 4,
   "metadata": {},
   "outputs": [],
   "source": [
    "test_data = img_read_and_prepare(img_paths)\n",
    "preds = my_model.predict(test_data)"
   ]
  },
  {
   "cell_type": "code",
   "execution_count": null,
   "metadata": {},
   "outputs": [],
   "source": []
  }
 ],
 "metadata": {
  "kernelspec": {
   "display_name": "Python 3",
   "language": "python",
   "name": "python3"
  },
  "language_info": {
   "codemirror_mode": {
    "name": "ipython",
    "version": 3
   },
   "file_extension": ".py",
   "mimetype": "text/x-python",
   "name": "python",
   "nbconvert_exporter": "python",
   "pygments_lexer": "ipython3",
   "version": "3.6.3"
  }
 },
 "nbformat": 4,
 "nbformat_minor": 1
}
