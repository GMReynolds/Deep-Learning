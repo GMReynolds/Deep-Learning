{
 "cells": [
  {
   "cell_type": "markdown",
   "metadata": {
    "collapsed": true
   },
   "source": [
    "# Brains, Primates and Artifical Intelligence\n",
    "### Gen Reynolds\n",
    "<div class=\"row\" display=\"flex\">\n",
    "    <div class=\"column\" flex=\"50%\">\n",
    "        <img src=\"Images/d305ec2a-9f5a-4894-8cd3-a7c43bb0756b-brain-640.jpg\"width=\"25%\">\n",
    "    </div>\n",
    "    <div class=\"column\" flex=\"50%\">\n",
    "        <img src=\"Images/MVIMG_20180630_141951.jpg\"width=\"25%\">\n",
    "    </div>\n",
    "    "
   ]
  },
  {
   "cell_type": "markdown",
   "metadata": {},
   "source": [
    "## Learning How to Make A Model Using Kaggle's Deep Learning Tutorial"
   ]
  },
  {
   "cell_type": "code",
   "execution_count": null,
   "metadata": {},
   "outputs": [],
   "source": [
    "# Pointing the code towards the files to use for the model training\n",
    "from os.path import join\n",
    "#Want to make this read straight from a zip file! Currently have to unzip the file \n",
    "image_dir='tutorial_files/test'\n"
   ]
  }
 ],
 "metadata": {
  "kernelspec": {
   "display_name": "Python 3",
   "language": "python",
   "name": "python3"
  },
  "language_info": {
   "codemirror_mode": {
    "name": "ipython",
    "version": 3
   },
   "file_extension": ".py",
   "mimetype": "text/x-python",
   "name": "python",
   "nbconvert_exporter": "python",
   "pygments_lexer": "ipython3",
   "version": "3.6.3"
  }
 },
 "nbformat": 4,
 "nbformat_minor": 1
}
