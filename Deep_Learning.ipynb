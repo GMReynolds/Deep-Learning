{
 "cells": [
  {
   "cell_type": "markdown",
   "metadata": {
    "collapsed": true,
    "slideshow": {
     "slide_type": "slide"
    }
   },
   "source": [
    "# Brains, Primates and Artifical Intelligence\n",
    "### Gen Reynolds\n",
    "<table><tr><td><img src=\"slide_images/d305ec2a-9f5a-4894-8cd3-a7c43bb0756b-brain-640.jpg\"width=\"75%\"></td><td> <img src=\"slide_images/MVIMG_20180630_141951.jpg\"width=\"50%\"></td><td><img src=\"slide_images/giphy.gif\"width=\"100%\"></td></tr></table>\n",
    "    "
   ]
  },
  {
   "cell_type": "markdown",
   "metadata": {
    "slideshow": {
     "slide_type": "slide"
    }
   },
   "source": [
    "## What is Artifical Intelligence?\n",
    "<table><tr><td><img src=\"slide_images/landscape-1480328982-westworld-episode-9-evan-rachel-wood.jpg\"width=\"85%\"></td><td><img src=\"slide_images/AmazonEchoDotFront-630x499.jpg\",width=\"100%\"></td><td><img src=\"slide_images/s3-news-tmp-6618-watson-tile--2x1--940.gif\"width=\"100%\"></td></tr></table>\n"
   ]
  },
  {
   "cell_type": "markdown",
   "metadata": {
    "slideshow": {
     "slide_type": "subslide"
    }
   },
   "source": [
    "<ul>\n",
    "  <li>The ability of a machine to perform tasks that are usually associated with having human intelligence</li>\n",
    "  <li>AI effect - \"AI is whatever hasn't been done yet\"</li>\n",
    "  <li>Watson Robot</li> \n",
    "  <li>Alexa, Siri and google assistant</li>\n",
    "</ul>  "
   ]
  },
  {
   "cell_type": "markdown",
   "metadata": {
    "slideshow": {
     "slide_type": "slide"
    }
   },
   "source": [
    "## The Human Brain\n",
    "<div><img src=\"slide_images/brain-anatomy-44-728.jpg\"width=\"75%\"></div>\n"
   ]
  },
  {
   "cell_type": "markdown",
   "metadata": {
    "slideshow": {
     "slide_type": "subslide"
    }
   },
   "source": [
    "<ul>\n",
    "  <li>We have evolved adapting to information we recieve from our environment</li>\n",
    "  <li>The brain processes this information and perform actions </li>\n",
    "  <li>Different parts of the brain are associated with different actions</li>\n",
    "  <li>The specilised neurons within these areas communicate with each other to form neuron networks </li>\n",
    "</ul> "
   ]
  },
  {
   "cell_type": "markdown",
   "metadata": {
    "slideshow": {
     "slide_type": "subslide"
    }
   },
   "source": [
    "### Biological Neuron\n",
    "<div><img src=\"slide_images/ba4196a3ef1255b9cdaa9308fdcfbcbb.jpg\"width=\"75%\"></div>"
   ]
  },
  {
   "cell_type": "markdown",
   "metadata": {
    "slideshow": {
     "slide_type": "slide"
    }
   },
   "source": [
    "## Machine Learning and Neural Networks\n",
    "Machine Learning = Providing Machines with data so they can learn from it themselves"
   ]
  },
  {
   "cell_type": "markdown",
   "metadata": {
    "slideshow": {
     "slide_type": "subslide"
    }
   },
   "source": [
    "### Artifical Neurons - inputs, weights, biases \n",
    "<div><img src=\"slide_images/neuronart.jpeg\"width=\"75%\"></div>"
   ]
  },
  {
   "cell_type": "markdown",
   "metadata": {
    "slideshow": {
     "slide_type": "subslide"
    }
   },
   "source": [
    "### Neural Network - lots of layers of nodes\n",
    "<div><img src=\"slide_images/0_0mia7BQKjUAuXeqZ.jpeg\"width=\"75%\"></div>"
   ]
  },
  {
   "cell_type": "markdown",
   "metadata": {
    "slideshow": {
     "slide_type": "slide"
    }
   },
   "source": [
    "## Learning How to Make A Model Using Kaggle's Deep Learning Tutorial"
   ]
  },
  {
   "cell_type": "code",
   "execution_count": null,
   "metadata": {
    "slideshow": {
     "slide_type": "subslide"
    }
   },
   "outputs": [],
   "source": [
    "# Pointing the code towards the files to use for the model training\n",
    "from os.path import join\n",
    "#Want to make this read straight from a zip file! Currently have to unzip the file \n",
    "image_dir = 'tutorial_files/indentifying_dog_breeds/train'\n",
    "# Testing with one image, want to select a number randomn images within the folder\n",
    "img_paths = [join(image_dir, filename) for filename in\n",
    "          ['cocker_spaniel.jpg']]\n"
   ]
  },
  {
   "cell_type": "markdown",
   "metadata": {
    "slideshow": {
     "slide_type": "subslide"
    }
   },
   "source": [
    "#### Creating a function to read the images and prepare them for modelling "
   ]
  },
  {
   "cell_type": "code",
   "execution_count": null,
   "metadata": {
    "slideshow": {
     "slide_type": "subslide"
    }
   },
   "outputs": [],
   "source": [
    "import numpy as np\n",
    "from PIL import Image\n",
    "from tensorflow.python.keras.applications.resnet50 import preprocess_input\n",
    "from tensorflow.python.keras.preprocessing.image import load_img, img_to_array\n",
    "\n",
    "image_size= 224\n",
    "\n",
    "def img_read_and_prepare(img_paths,img_height=image_size,img_width=image_size):\n",
    "    imgs=[load_img(img_path,target_size=(img_height,img_width))for img_path in img_paths]\n",
    "    img_array= np.array([img_to_array(img) for img in imgs])\n",
    "    return preprocess_input(img_array)"
   ]
  },
  {
   "cell_type": "markdown",
   "metadata": {
    "slideshow": {
     "slide_type": "subslide"
    }
   },
   "source": [
    "#### Creating tutorial model using pretrained weights to make predictions"
   ]
  },
  {
   "cell_type": "code",
   "execution_count": null,
   "metadata": {
    "slideshow": {
     "slide_type": "subslide"
    }
   },
   "outputs": [],
   "source": [
    "from tensorflow.python.keras.applications import ResNet50\n",
    "\n",
    "my_model = ResNet50(weights='tutorial_files/ResNet50/resnet50_weights_tf_dim_ordering_tf_kernels.h5/resnet50_weights_tf_dim_ordering_tf_kernels.h5')"
   ]
  },
  {
   "cell_type": "code",
   "execution_count": null,
   "metadata": {
    "slideshow": {
     "slide_type": "subslide"
    }
   },
   "outputs": [],
   "source": [
    "test_data = img_read_and_prepare(img_paths)\n",
    "preds = my_model.predict(test_data)"
   ]
  },
  {
   "cell_type": "markdown",
   "metadata": {
    "slideshow": {
     "slide_type": "subslide"
    }
   },
   "source": [
    "#### Visualising the Model"
   ]
  },
  {
   "cell_type": "code",
   "execution_count": null,
   "metadata": {
    "slideshow": {
     "slide_type": "subslide"
    }
   },
   "outputs": [],
   "source": [
    "import sys\n",
    "sys.path.append('tutorial_files/utils')\n",
    "from decode_predictions import decode_predictions\n",
    "from IPython.display import Image, display\n",
    "\n",
    "most_likely_labels= decode_predictions(preds, top=3, class_list_path='tutorial_files/ResNet50/imagenet_class_index.json')\n",
    "\n",
    "for i, img_path in enumerate(img_paths):\n",
    "    display(Image(img_path))\n",
    "    print(most_likely_labels[i])"
   ]
  },
  {
   "cell_type": "markdown",
   "metadata": {
    "slideshow": {
     "slide_type": "slide"
    }
   },
   "source": [
    "## Using Transfer Learning to Create my own Model To Identify Primates"
   ]
  },
  {
   "cell_type": "code",
   "execution_count": null,
   "metadata": {
    "slideshow": {
     "slide_type": "subslide"
    }
   },
   "outputs": [],
   "source": [
    "from tensorflow.python.keras.applications import ResNet50\n",
    "from tensorflow.python.keras.models import Sequential\n",
    "from tensorflow.python.keras.layers import Dense, Flatten, GlobalAveragePooling2D\n",
    "\n",
    "#Here I am setting the number of node classes I want my model to group it's predictions into\n",
    "cols = ['Class','Latin Name', 'Common Name','Train Images', 'Validation Images']\n",
    "classes = pd.read_csv(\"primate_model/monkey_labels.txt\", names=cols, skiprows=1 ,usecols=range(3))\n",
    "num_classes = len(classes)\n",
    "classes\n",
    "\n",
    "resnet_weights_path='tutorial_files/ResNet50/resnet50_weights_tf_dim_ordering_tf_kernels_notop.h5/resnet50_weights_tf_dim_ordering_tf_kernels_notop.h5'\n",
    "my_new_model= Sequential()\n",
    "#Here I am excluding the top layer of my neural network because I want to modify the existing functionality to test my own data\n",
    "my_new_model.add(ResNet50(include_top=False, pooling='avg', weights=resnet_weights_path))\n",
    "my_new_model.add(Dense(num_classes, activation='softmax'))\n",
    "#In this case because the model is already trained I am not going to train the first layer of the network\n",
    "my_new_model.layers[0].trainable=False"
   ]
  },
  {
   "cell_type": "markdown",
   "metadata": {
    "slideshow": {
     "slide_type": "subslide"
    }
   },
   "source": [
    "#### Compiling my model"
   ]
  },
  {
   "cell_type": "code",
   "execution_count": null,
   "metadata": {
    "slideshow": {
     "slide_type": "subslide"
    }
   },
   "outputs": [],
   "source": [
    "my_new_model.compile(optimizer='adam', loss='categorical_crossentropy', metrics=['accuracy'])"
   ]
  },
  {
   "cell_type": "markdown",
   "metadata": {
    "slideshow": {
     "slide_type": "subslide"
    }
   },
   "source": [
    "#### Fitting My Model"
   ]
  },
  {
   "cell_type": "code",
   "execution_count": null,
   "metadata": {
    "slideshow": {
     "slide_type": "subslide"
    }
   },
   "outputs": [],
   "source": [
    "from tensorflow.python.keras.applications.resnet50 import preprocess_input\n",
    "from tensorflow.python.keras.preprocessing.image import ImageDataGenerator\n",
    "\n",
    "\n",
    "image_size = 224\n",
    "\n",
    "data_generator = ImageDataGenerator(preprocessing_function= preprocess_input)\n",
    "\n",
    "train_generator = data_generator.flow_from_directory(\n",
    "    'primate_model/training',\n",
    "    target_size = (image_size,image_size),\n",
    "    batch_size = 12,\n",
    "    class_mode = 'categorical')\n",
    "\n",
    "validation_generator = data_generator.flow_from_directory(\n",
    "    'primate_model/validation',\n",
    "    class_mode= 'categorical')\n",
    "\n",
    "my_new_model.fit_generator(\n",
    "    train_generator,\n",
    "    steps_per_epoch = 10,\n",
    "    epochs = 3,\n",
    "    validation_data = validation_generator,\n",
    "    validation_steps = 1,\n",
    ")\n",
    "# Using the Adam optimiser has made the model more accurate and reduced the loss \n"
   ]
  },
  {
   "cell_type": "code",
   "execution_count": null,
   "metadata": {
    "slideshow": {
     "slide_type": "subslide"
    }
   },
   "outputs": [],
   "source": [
    "#Visualsing the Model\n",
    "from decode_predictions import decode_predictions\n",
    "from IPython.display import Image, display\n",
    "\n",
    "most_likely_labels= decode_predictions(preds, top=3, class_list_path=classes)\n",
    "\n",
    "for i, img_path in enumerate(img_paths):\n",
    "    display(Image(img_path))\n",
    "    print(most_likely_labels[i])"
   ]
  },
  {
   "cell_type": "markdown",
   "metadata": {
    "slideshow": {
     "slide_type": "slide"
    }
   },
   "source": [
    "## Some awesome resources\n",
    "\n",
    "<html><body><p><u>Websites:</u>.</p></body></html>\n",
    "\n",
    "Kaggle - https://www.kaggle.com\n",
    "\n",
    "Tensor Flow playground - https://playground.tensorflow.org\n",
    "\n",
    "Machine box - https://machinebox.io\n",
    "\n",
    "<html><body><p><u>Youtube channels:</u>.</p></body></html>\n",
    "\n",
    "3 Brown 1 Blue - https://www.youtube.com/channel/UCYO_jab_esuFRV4b17AJtAw\n",
    "\n",
    "Siraj Raval (Really Quick tutorial!!) - https://www.youtube.com/watch?v=QfNvhPx5Px8\n"
   ]
  }
 ],
 "metadata": {
  "celltoolbar": "Slideshow",
  "kernelspec": {
   "display_name": "Python 3",
   "language": "python",
   "name": "python3"
  },
  "language_info": {
   "codemirror_mode": {
    "name": "ipython",
    "version": 3
   },
   "file_extension": ".py",
   "mimetype": "text/x-python",
   "name": "python",
   "nbconvert_exporter": "python",
   "pygments_lexer": "ipython3",
   "version": "3.6.3"
  }
 },
 "nbformat": 4,
 "nbformat_minor": 1
}
