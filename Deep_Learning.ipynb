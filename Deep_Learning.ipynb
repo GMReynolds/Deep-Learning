{
 "cells": [
  {
   "cell_type": "markdown",
   "metadata": {
    "collapsed": true,
    "slideshow": {
     "slide_type": "slide"
    }
   },
   "source": [
    "# Brains, Primates and Artifical Intelligence\n",
    "### Gen Reynolds\n",
    "<table><tr><td><img src=\"slide_images/d305ec2a-9f5a-4894-8cd3-a7c43bb0756b-brain-640.jpg\"width=\"75%\"></td><td> <img src=\"slide_images/MVIMG_20180630_141951.jpg\"width=\"50%\"></td><td><img src=\"slide_images/giphy.gif\"width=\"100%\"></td></tr></table>\n",
    "    "
   ]
  },
  {
   "cell_type": "markdown",
   "metadata": {
    "slideshow": {
     "slide_type": "slide"
    }
   },
   "source": [
    "## What is Artifical Intelligence?"
   ]
  },
  {
   "cell_type": "markdown",
   "metadata": {
    "slideshow": {
     "slide_type": "slide"
    }
   },
   "source": [
    "## The Human Brain\n",
    "<div><img src=\"slide_images/brain-anatomy-44-728.jpg\"width=\"25%\"></div>\n",
    "Complex organ\n",
    "Neurons\n",
    "Neural Networks\n"
   ]
  },
  {
   "cell_type": "markdown",
   "metadata": {
    "slideshow": {
     "slide_type": "slide"
    }
   },
   "source": [
    "## Machine Learning and Neural Networks"
   ]
  },
  {
   "cell_type": "markdown",
   "metadata": {
    "slideshow": {
     "slide_type": "slide"
    }
   },
   "source": [
    "## Learning How to Make A Model Using Kaggle's Deep Learning Tutorial"
   ]
  },
  {
   "cell_type": "code",
   "execution_count": 2,
   "metadata": {
    "slideshow": {
     "slide_type": "subslide"
    }
   },
   "outputs": [],
   "source": [
    "# Pointing the code towards the files to use for the model training\n",
    "from os.path import join\n",
    "#Want to make this read straight from a zip file! Currently have to unzip the file \n",
    "image_dir = 'tutorial_files/indentifying_dog_breeds/train'\n",
    "# Testing with one image, want to select a number randomn images within the folder\n",
    "img_paths = [join(image_dir, filename) for filename in\n",
    "          ['cocker_spaniel.jpg']]\n"
   ]
  },
  {
   "cell_type": "markdown",
   "metadata": {
    "slideshow": {
     "slide_type": "subslide"
    }
   },
   "source": [
    "#### Creating a function to read the images and prepare them for modelling "
   ]
  },
  {
   "cell_type": "code",
   "execution_count": 3,
   "metadata": {
    "slideshow": {
     "slide_type": "subslide"
    }
   },
   "outputs": [],
   "source": [
    "import numpy as np\n",
    "from PIL import Image\n",
    "from tensorflow.python.keras.applications.resnet50 import preprocess_input\n",
    "from tensorflow.python.keras.preprocessing.image import load_img, img_to_array\n",
    "\n",
    "image_size= 224\n",
    "\n",
    "def img_read_and_prepare(img_paths,img_height=image_size,img_width=image_size):\n",
    "    imgs=[load_img(img_path,target_size=(img_height,img_width))for img_path in img_paths]\n",
    "    img_array= np.array([img_to_array(img) for img in imgs])\n",
    "    return preprocess_input(img_array)"
   ]
  },
  {
   "cell_type": "markdown",
   "metadata": {
    "slideshow": {
     "slide_type": "subslide"
    }
   },
   "source": [
    "#### Creating tutorial model using pretrained weights to make predictions"
   ]
  },
  {
   "cell_type": "code",
   "execution_count": 4,
   "metadata": {
    "slideshow": {
     "slide_type": "subslide"
    }
   },
   "outputs": [],
   "source": [
    "from tensorflow.python.keras.applications import ResNet50\n",
    "\n",
    "my_model = ResNet50(weights='tutorial_files/ResNet50/resnet50_weights_tf_dim_ordering_tf_kernels.h5/resnet50_weights_tf_dim_ordering_tf_kernels.h5')"
   ]
  },
  {
   "cell_type": "code",
   "execution_count": 5,
   "metadata": {
    "slideshow": {
     "slide_type": "subslide"
    }
   },
   "outputs": [],
   "source": [
    "test_data = img_read_and_prepare(img_paths)\n",
    "preds = my_model.predict(test_data)"
   ]
  },
  {
   "cell_type": "markdown",
   "metadata": {
    "slideshow": {
     "slide_type": "subslide"
    }
   },
   "source": [
    "#### Visualising the Model"
   ]
  },
  {
   "cell_type": "code",
   "execution_count": 6,
   "metadata": {
    "slideshow": {
     "slide_type": "subslide"
    }
   },
   "outputs": [
    {
     "data": {
      "image/jpeg": "[encoded data removed]",
      "text/plain": [
       "<IPython.core.display.Image object>"
      ]
     },
     "metadata": {},
     "output_type": "display_data"
    },
    {
     "name": "stdout",
     "output_type": "stream",
     "text": [
      "[('n02102318', 'cocker_spaniel', 0.54071003), ('n02102480', 'Sussex_spaniel', 0.35997143), ('n02102177', 'Welsh_springer_spaniel', 0.018370267)]\n"
     ]
    }
   ],
   "source": [
    "import sys\n",
    "sys.path.append('tutorial_files/utils')\n",
    "from decode_predictions import decode_predictions\n",
    "from IPython.display import Image, display\n",
    "\n",
    "most_likely_labels= decode_predictions(preds, top=3, class_list_path='tutorial_files/ResNet50/imagenet_class_index.json')\n",
    "\n",
    "for i, img_path in enumerate(img_paths):\n",
    "    display(Image(img_path))\n",
    "    print(most_likely_labels[i])"
   ]
  },
  {
   "cell_type": "markdown",
   "metadata": {
    "slideshow": {
     "slide_type": "slide"
    }
   },
   "source": [
    "## Using Transfer Learning to Create my own Model To Identify Primates"
   ]
  },
  {
   "cell_type": "code",
   "execution_count": 25,
   "metadata": {
    "slideshow": {
     "slide_type": "subslide"
    }
   },
   "outputs": [],
   "source": [
    "from tensorflow.python.keras.applications import ResNet50\n",
    "from tensorflow.python.keras.models import Sequential\n",
    "from tensorflow.python.keras.layers import Dense, Flatten, GlobalAveragePooling2D\n",
    "\n",
    "#Here I am setting the number of node classes I want my model to group it's predictions into\n",
    "num_classes = 10\n",
    "resnet_weights_path='tutorial_files/ResNet50/resnet50_weights_tf_dim_ordering_tf_kernels_notop.h5/resnet50_weights_tf_dim_ordering_tf_kernels_notop.h5'\n",
    "my_new_model= Sequential()\n",
    "#Here I am excluding the top layer of my neural network because I want to modify the existing functionality to test my own data\n",
    "my_new_model.add(ResNet50(include_top=False, pooling='avg', weights=resnet_weights_path))\n",
    "my_new_model.add(Dense(num_classes, activation='softmax'))\n",
    "#In this case because the model is already trained I am not going to train the first layer of the network\n",
    "my_new_model.layers[0].trainable=False"
   ]
  },
  {
   "cell_type": "markdown",
   "metadata": {
    "slideshow": {
     "slide_type": "subslide"
    }
   },
   "source": [
    "#### Compiling my model"
   ]
  },
  {
   "cell_type": "code",
   "execution_count": 26,
   "metadata": {
    "slideshow": {
     "slide_type": "subslide"
    }
   },
   "outputs": [],
   "source": [
    "my_new_model.compile(optimizer='sgd', loss='categorical_crossentropy', metrics=['accuracy'])"
   ]
  },
  {
   "cell_type": "markdown",
   "metadata": {
    "slideshow": {
     "slide_type": "subslide"
    }
   },
   "source": [
    "#### Fitting My Model"
   ]
  },
  {
   "cell_type": "code",
   "execution_count": 39,
   "metadata": {
    "slideshow": {
     "slide_type": "subslide"
    }
   },
   "outputs": [
    {
     "name": "stdout",
     "output_type": "stream",
     "text": [
      "Found 1097 images belonging to 10 classes.\n",
      "Found 272 images belonging to 10 classes.\n",
      "Epoch 1/3\n",
      "10/10 [==============================] - 185s 18s/step - loss: 1.8052 - acc: 0.4083 - val_loss: 1.4080 - val_acc: 0.5000\n",
      "Epoch 2/3\n",
      "10/10 [==============================] - 176s 18s/step - loss: 1.4747 - acc: 0.5917 - val_loss: 0.9802 - val_acc: 0.6562\n",
      "Epoch 3/3\n",
      "10/10 [==============================] - 173s 17s/step - loss: 1.2011 - acc: 0.6961 - val_loss: 0.7726 - val_acc: 0.7500\n"
     ]
    },
    {
     "data": {
      "text/plain": [
       "<tensorflow.python.keras.callbacks.History at 0x26c9400d278>"
      ]
     },
     "execution_count": 39,
     "metadata": {},
     "output_type": "execute_result"
    }
   ],
   "source": [
    "from tensorflow.python.keras.applications.resnet50 import preprocess_input\n",
    "from tensorflow.python.keras.preprocessing.image import ImageDataGenerator\n",
    "\n",
    "\n",
    "image_size = 224\n",
    "\n",
    "data_generator = ImageDataGenerator(preprocessing_function= preprocess_input)\n",
    "\n",
    "train_generator = data_generator.flow_from_directory(\n",
    "    'primate_model/training',\n",
    "    target_size = (image_size,image_size),\n",
    "    batch_size = 12,\n",
    "    class_mode = 'categorical')\n",
    "\n",
    "validation_generator = data_generator.flow_from_directory(\n",
    "    'primate_model/validation',\n",
    "    class_mode= 'categorical')\n",
    "\n",
    "my_new_model.fit_generator(\n",
    "    train_generator,\n",
    "    steps_per_epoch = 10,\n",
    "    epochs = 3,\n",
    "    validation_data = validation_generator,\n",
    "    validation_steps = 1,\n",
    ")\n",
    "# Using the Adam optimiser has made the model more accurate and reduced the loss "
   ]
  },
  {
   "cell_type": "markdown",
   "metadata": {
    "slideshow": {
     "slide_type": "slide"
    }
   },
   "source": [
    "## Making My Own Model"
   ]
  },
  {
   "cell_type": "code",
   "execution_count": 38,
   "metadata": {
    "slideshow": {
     "slide_type": "subslide"
    }
   },
   "outputs": [],
   "source": [
    "# The above model is not as accurate as I would like, therefore I am going to make my own model\n",
    "import time\n",
    "from datetime import timedelta\n",
    "import math\n",
    "import random\n",
    "\n",
    "from numpy.random import seed\n",
    "seed(1)\n",
    "from tensorflow import set_random_seed\n",
    "set_random_seed(2)\n"
   ]
  },
  {
   "cell_type": "code",
   "execution_count": 50,
   "metadata": {},
   "outputs": [
    {
     "data": {
      "text/html": [
       "<div>\n",
       "<style scoped>\n",
       "    .dataframe tbody tr th:only-of-type {\n",
       "        vertical-align: middle;\n",
       "    }\n",
       "\n",
       "    .dataframe tbody tr th {\n",
       "        vertical-align: top;\n",
       "    }\n",
       "\n",
       "    .dataframe thead th {\n",
       "        text-align: right;\n",
       "    }\n",
       "</style>\n",
       "<table border=\"1\" class=\"dataframe\">\n",
       "  <thead>\n",
       "    <tr style=\"text-align: right;\">\n",
       "      <th></th>\n",
       "      <th>Class</th>\n",
       "      <th>Latin Name</th>\n",
       "      <th>Common Name</th>\n",
       "    </tr>\n",
       "  </thead>\n",
       "  <tbody>\n",
       "    <tr>\n",
       "      <th>0</th>\n",
       "      <td>n0</td>\n",
       "      <td>alouatta_palliata\\t</td>\n",
       "      <td>mantled_howler</td>\n",
       "    </tr>\n",
       "    <tr>\n",
       "      <th>1</th>\n",
       "      <td>n1</td>\n",
       "      <td>erythrocebus_patas\\t</td>\n",
       "      <td>patas_monkey</td>\n",
       "    </tr>\n",
       "    <tr>\n",
       "      <th>2</th>\n",
       "      <td>n2</td>\n",
       "      <td>cacajao_calvus\\t</td>\n",
       "      <td>bald_uakari</td>\n",
       "    </tr>\n",
       "    <tr>\n",
       "      <th>3</th>\n",
       "      <td>n3</td>\n",
       "      <td>macaca_fuscata\\t</td>\n",
       "      <td>japanese_macaque</td>\n",
       "    </tr>\n",
       "    <tr>\n",
       "      <th>4</th>\n",
       "      <td>n4</td>\n",
       "      <td>cebuella_pygmea\\t</td>\n",
       "      <td>pygmy_marmoset</td>\n",
       "    </tr>\n",
       "    <tr>\n",
       "      <th>5</th>\n",
       "      <td>n5</td>\n",
       "      <td>cebus_capucinus\\t</td>\n",
       "      <td>white_headed_capuchin</td>\n",
       "    </tr>\n",
       "    <tr>\n",
       "      <th>6</th>\n",
       "      <td>n6</td>\n",
       "      <td>mico_argentatus\\t</td>\n",
       "      <td>silvery_marmoset</td>\n",
       "    </tr>\n",
       "    <tr>\n",
       "      <th>7</th>\n",
       "      <td>n7</td>\n",
       "      <td>saimiri_sciureus\\t</td>\n",
       "      <td>common_squirrel_monkey</td>\n",
       "    </tr>\n",
       "    <tr>\n",
       "      <th>8</th>\n",
       "      <td>n8</td>\n",
       "      <td>aotus_nigriceps\\t</td>\n",
       "      <td>black_headed_night_monkey</td>\n",
       "    </tr>\n",
       "    <tr>\n",
       "      <th>9</th>\n",
       "      <td>n9</td>\n",
       "      <td>trachypithecus_johnii</td>\n",
       "      <td>nilgiri_langur</td>\n",
       "    </tr>\n",
       "  </tbody>\n",
       "</table>\n",
       "</div>"
      ],
      "text/plain": [
       "   Class                Latin Name                      Common Name\n",
       "0  n0         alouatta_palliata\\t    mantled_howler                \n",
       "1  n1        erythrocebus_patas\\t    patas_monkey                  \n",
       "2  n2        cacajao_calvus\\t        bald_uakari                   \n",
       "3  n3        macaca_fuscata\\t        japanese_macaque              \n",
       "4  n4       cebuella_pygmea\\t        pygmy_marmoset                \n",
       "5  n5       cebus_capucinus\\t        white_headed_capuchin         \n",
       "6  n6       mico_argentatus\\t        silvery_marmoset              \n",
       "7  n7      saimiri_sciureus\\t        common_squirrel_monkey        \n",
       "8  n8       aotus_nigriceps\\t        black_headed_night_monkey     \n",
       "9  n9       trachypithecus_johnii    nilgiri_langur                "
      ]
     },
     "execution_count": 50,
     "metadata": {},
     "output_type": "execute_result"
    }
   ],
   "source": [
    "import pandas as pd\n",
    "batch_size = 20\n",
    "cols = ['Class','Latin Name', 'Common Name','Train Images', 'Validation Images']\n",
    "classes = pd.read_csv(\"primate_model/monkey_labels.txt\", names=cols, skiprows=1 ,usecols=range(3))\n",
    "num_classes = len(classes)\n",
    "classes"
   ]
  },
  {
   "cell_type": "code",
   "execution_count": 51,
   "metadata": {},
   "outputs": [],
   "source": [
    "# Setting up validation data\n",
    "validation_size = 0.25\n",
    "img_size = 128\n",
    "num_channels = 3\n",
    "train_images = 'primate_model/training'"
   ]
  },
  {
   "cell_type": "code",
   "execution_count": null,
   "metadata": {},
   "outputs": [],
   "source": [
    "# loading into memory the data\n",
    "data.dataset.read_train_sets(train_images,img_size, classes)"
   ]
  },
  {
   "cell_type": "markdown",
   "metadata": {
    "slideshow": {
     "slide_type": "subslide"
    }
   },
   "source": [
    "## Some awesome resources\n",
    "\n",
    "<html><body><p><u>Websites:</u>.</p></body></html>\n",
    "\n",
    "Kaggle - https://www.kaggle.com\n",
    "\n",
    "Tensor Flow playground - https://playground.tensorflow.org\n",
    "\n",
    "Machine box - https://machinebox.io\n",
    "\n",
    "<html><body><p><u>Youtube channels:</u>.</p></body></html>\n",
    "\n",
    "<html><body><p><u>Libraries:</u>.</p></body></html>\n"
   ]
  },
  {
   "cell_type": "code",
   "execution_count": null,
   "metadata": {},
   "outputs": [],
   "source": []
  }
 ],
 "metadata": {
  "celltoolbar": "Slideshow",
  "kernelspec": {
   "display_name": "Python 3",
   "language": "python",
   "name": "python3"
  },
  "language_info": {
   "codemirror_mode": {
    "name": "ipython",
    "version": 3
   },
   "file_extension": ".py",
   "mimetype": "text/x-python",
   "name": "python",
   "nbconvert_exporter": "python",
   "pygments_lexer": "ipython3",
   "version": "3.6.3"
  }
 },
 "nbformat": 4,
 "nbformat_minor": 1
}
